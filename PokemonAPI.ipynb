{
 "cells": [
  {
   "cell_type": "markdown",
   "metadata": {},
   "source": [
    "##Project Overview\n",
    "\n",
    "This was done as apart of the DSC-140S Course at the University of Mount Union in the fall of 2024. This was analysis that had some parameters but was mostly exploritory.\n",
    "\n",
    "If there are any question, please view the README.md for contact information."
   ]
  },
  {
   "cell_type": "code",
   "execution_count": null,
   "metadata": {},
   "outputs": [],
   "source": [
    "#Imports\n",
    "\n",
    "import requests\n",
    "import pandas as pd\n",
    "#import matplotlib as plt\n",
    "import scipy\n",
    "import matplotlib.pyplot as plt\n",
    "\n",
    "# I had issues with matplotlib half way through the project so I searched for solutions and found this forumn post:\n",
    "# https://stackoverflow.com/questions/75491344/attributeerror-module-matplotlib-has-no-attribute-bar"
   ]
  },
  {
   "cell_type": "markdown",
   "metadata": {},
   "source": [
    "# Question 1"
   ]
  },
  {
   "cell_type": "code",
   "execution_count": null,
   "metadata": {},
   "outputs": [
    {
     "data": {
      "text/html": [
       "<div>\n",
       "<style scoped>\n",
       "    .dataframe tbody tr th:only-of-type {\n",
       "        vertical-align: middle;\n",
       "    }\n",
       "\n",
       "    .dataframe tbody tr th {\n",
       "        vertical-align: top;\n",
       "    }\n",
       "\n",
       "    .dataframe thead th {\n",
       "        text-align: right;\n",
       "    }\n",
       "</style>\n",
       "<table border=\"1\" class=\"dataframe\">\n",
       "  <thead>\n",
       "    <tr style=\"text-align: right;\">\n",
       "      <th></th>\n",
       "      <th>Name</th>\n",
       "    </tr>\n",
       "  </thead>\n",
       "  <tbody>\n",
       "    <tr>\n",
       "      <th>0</th>\n",
       "      <td>clefairy</td>\n",
       "    </tr>\n",
       "    <tr>\n",
       "      <th>1</th>\n",
       "      <td>clefable</td>\n",
       "    </tr>\n",
       "    <tr>\n",
       "      <th>2</th>\n",
       "      <td>jigglypuff</td>\n",
       "    </tr>\n",
       "    <tr>\n",
       "      <th>3</th>\n",
       "      <td>wigglytuff</td>\n",
       "    </tr>\n",
       "    <tr>\n",
       "      <th>4</th>\n",
       "      <td>mr-mime</td>\n",
       "    </tr>\n",
       "    <tr>\n",
       "      <th>...</th>\n",
       "      <td>...</td>\n",
       "    </tr>\n",
       "    <tr>\n",
       "      <th>78</th>\n",
       "      <td>zacian-crowned</td>\n",
       "    </tr>\n",
       "    <tr>\n",
       "      <th>79</th>\n",
       "      <td>hatterene-gmax</td>\n",
       "    </tr>\n",
       "    <tr>\n",
       "      <th>80</th>\n",
       "      <td>grimmsnarl-gmax</td>\n",
       "    </tr>\n",
       "    <tr>\n",
       "      <th>81</th>\n",
       "      <td>alcremie-gmax</td>\n",
       "    </tr>\n",
       "    <tr>\n",
       "      <th>82</th>\n",
       "      <td>enamorus-therian</td>\n",
       "    </tr>\n",
       "  </tbody>\n",
       "</table>\n",
       "<p>83 rows × 1 columns</p>\n",
       "</div>"
      ],
      "text/plain": [
       "                Name\n",
       "0           clefairy\n",
       "1           clefable\n",
       "2         jigglypuff\n",
       "3         wigglytuff\n",
       "4            mr-mime\n",
       "..               ...\n",
       "78    zacian-crowned\n",
       "79    hatterene-gmax\n",
       "80   grimmsnarl-gmax\n",
       "81     alcremie-gmax\n",
       "82  enamorus-therian\n",
       "\n",
       "[83 rows x 1 columns]"
      ]
     },
     "execution_count": 2,
     "metadata": {},
     "output_type": "execute_result"
    }
   ],
   "source": [
    "#API Overview\n",
    "\n",
    "base_url = \"https://pokeapi.co/api/v2/\"\n",
    "mods = \"type/fairy\"\n",
    "url = base_url+mods\n",
    "js_data = requests.get(url).json()\n",
    "data = [pokemon[\"pokemon\"][\"name\"]for pokemon in js_data[\"pokemon\"]]\n",
    "type_data_fairy = pd.DataFrame(data, columns=[\"Name\"])\n",
    "\n",
    "type_data_fairy"
   ]
  },
  {
   "cell_type": "code",
   "execution_count": null,
   "metadata": {},
   "outputs": [
    {
     "data": {
      "text/html": [
       "<div>\n",
       "<style scoped>\n",
       "    .dataframe tbody tr th:only-of-type {\n",
       "        vertical-align: middle;\n",
       "    }\n",
       "\n",
       "    .dataframe tbody tr th {\n",
       "        vertical-align: top;\n",
       "    }\n",
       "\n",
       "    .dataframe thead th {\n",
       "        text-align: right;\n",
       "    }\n",
       "</style>\n",
       "<table border=\"1\" class=\"dataframe\">\n",
       "  <thead>\n",
       "    <tr style=\"text-align: right;\">\n",
       "      <th></th>\n",
       "      <th>Name</th>\n",
       "    </tr>\n",
       "  </thead>\n",
       "  <tbody>\n",
       "    <tr>\n",
       "      <th>0</th>\n",
       "      <td>charmander</td>\n",
       "    </tr>\n",
       "    <tr>\n",
       "      <th>1</th>\n",
       "      <td>charmeleon</td>\n",
       "    </tr>\n",
       "    <tr>\n",
       "      <th>2</th>\n",
       "      <td>charizard</td>\n",
       "    </tr>\n",
       "    <tr>\n",
       "      <th>3</th>\n",
       "      <td>vulpix</td>\n",
       "    </tr>\n",
       "    <tr>\n",
       "      <th>4</th>\n",
       "      <td>ninetales</td>\n",
       "    </tr>\n",
       "    <tr>\n",
       "      <th>...</th>\n",
       "      <td>...</td>\n",
       "    </tr>\n",
       "    <tr>\n",
       "      <th>98</th>\n",
       "      <td>growlithe-hisui</td>\n",
       "    </tr>\n",
       "    <tr>\n",
       "      <th>99</th>\n",
       "      <td>arcanine-hisui</td>\n",
       "    </tr>\n",
       "    <tr>\n",
       "      <th>100</th>\n",
       "      <td>typhlosion-hisui</td>\n",
       "    </tr>\n",
       "    <tr>\n",
       "      <th>101</th>\n",
       "      <td>tauros-paldea-blaze-breed</td>\n",
       "    </tr>\n",
       "    <tr>\n",
       "      <th>102</th>\n",
       "      <td>ogerpon-hearthflame-mask</td>\n",
       "    </tr>\n",
       "  </tbody>\n",
       "</table>\n",
       "<p>103 rows × 1 columns</p>\n",
       "</div>"
      ],
      "text/plain": [
       "                          Name\n",
       "0                   charmander\n",
       "1                   charmeleon\n",
       "2                    charizard\n",
       "3                       vulpix\n",
       "4                    ninetales\n",
       "..                         ...\n",
       "98             growlithe-hisui\n",
       "99              arcanine-hisui\n",
       "100           typhlosion-hisui\n",
       "101  tauros-paldea-blaze-breed\n",
       "102   ogerpon-hearthflame-mask\n",
       "\n",
       "[103 rows x 1 columns]"
      ]
     },
     "execution_count": 8,
     "metadata": {},
     "output_type": "execute_result"
    }
   ],
   "source": [
    "#API Overview\n",
    "\n",
    "\n",
    "ase_url = \"https://pokeapi.co/api/v2/\"\n",
    "mods = \"type/fire\"\n",
    "url = base_url+mods\n",
    "js_data = requests.get(url).json()\n",
    "data = [pokemon[\"pokemon\"][\"name\"]for pokemon in js_data[\"pokemon\"]]\n",
    "type_data_fire = pd.DataFrame(data, columns=[\"Name\"])\n",
    "\n",
    "type_data_fire"
   ]
  },
  {
   "cell_type": "code",
   "execution_count": null,
   "metadata": {},
   "outputs": [
    {
     "data": {
      "text/html": [
       "<div>\n",
       "<style scoped>\n",
       "    .dataframe tbody tr th:only-of-type {\n",
       "        vertical-align: middle;\n",
       "    }\n",
       "\n",
       "    .dataframe tbody tr th {\n",
       "        vertical-align: top;\n",
       "    }\n",
       "\n",
       "    .dataframe thead th {\n",
       "        text-align: right;\n",
       "    }\n",
       "</style>\n",
       "<table border=\"1\" class=\"dataframe\">\n",
       "  <thead>\n",
       "    <tr style=\"text-align: right;\">\n",
       "      <th></th>\n",
       "      <th>Name</th>\n",
       "      <th>Base_Experience</th>\n",
       "      <th>Height</th>\n",
       "      <th>Weight</th>\n",
       "    </tr>\n",
       "  </thead>\n",
       "  <tbody>\n",
       "    <tr>\n",
       "      <th>0</th>\n",
       "      <td>mr-mime</td>\n",
       "      <td>161</td>\n",
       "      <td>13</td>\n",
       "      <td>545</td>\n",
       "    </tr>\n",
       "  </tbody>\n",
       "</table>\n",
       "</div>"
      ],
      "text/plain": [
       "      Name  Base_Experience  Height  Weight\n",
       "0  mr-mime              161      13     545"
      ]
     },
     "execution_count": 18,
     "metadata": {},
     "output_type": "execute_result"
    }
   ],
   "source": [
    "#API Overview\n",
    "\n",
    "\n",
    "base_url = \"https://pokeapi.co/api/v2/\"\n",
    "mods = \"pokemon/mr-mime\"\n",
    "url = base_url+mods\n",
    "js_data = requests.get(url).json()\n",
    "data = [js_data[\"name\"], js_data[\"base_experience\"], js_data[\"height\"], js_data[\"weight\"]]\n",
    "pokemon_data = pd.DataFrame([data], columns=[\"Name\", \"Base_Experience\", \"Height\", \"Weight\"])\n",
    "pokemon_data"
   ]
  },
  {
   "cell_type": "markdown",
   "metadata": {},
   "source": [
    "# Question 2"
   ]
  },
  {
   "cell_type": "code",
   "execution_count": 2,
   "metadata": {},
   "outputs": [
    {
     "name": "stdout",
     "output_type": "stream",
     "text": [
      "                Name  Base_Experience  Height  Weight\n",
      "0           clefairy              113       6      75\n",
      "1           clefable              242      13     400\n",
      "2         jigglypuff               95       5      55\n",
      "3         wigglytuff              218      10     120\n",
      "4            mr-mime              161      13     545\n",
      "..               ...              ...     ...     ...\n",
      "78    zacian-crowned              360      28    3550\n",
      "79    hatterene-gmax              255     260   10000\n",
      "80   grimmsnarl-gmax              255     320   10000\n",
      "81     alcremie-gmax              173     300   10000\n",
      "82  enamorus-therian              116      16     480\n",
      "\n",
      "[83 rows x 4 columns]\n"
     ]
    }
   ],
   "source": [
    "base_url = \"https://pokeapi.co/api/v2/\"\n",
    "mods = \"type/fairy\"\n",
    "url = base_url + mods\n",
    "js_data = requests.get(url).json()\n",
    "fairy_pokemon = [pokemon[\"pokemon\"][\"name\"] for pokemon in js_data[\"pokemon\"]]\n",
    "\n",
    "pokemon_stats = []\n",
    "\n",
    "for name in fairy_pokemon:\n",
    "    mods = \"pokemon/\" + name\n",
    "    url = base_url + mods\n",
    "    js_data = requests.get(url).json()\n",
    "    data = [js_data[\"name\"], js_data[\"base_experience\"], js_data[\"height\"], js_data[\"weight\"]]\n",
    "    pokemon_stats.append(data)\n",
    "    \n",
    "pokemon_fairy_data = pd.DataFrame(pokemon_stats, columns=[\"Name\", \"Base_Experience\", \"Height\", \"Weight\"])\n",
    "print(pokemon_fairy_data)"
   ]
  },
  {
   "cell_type": "code",
   "execution_count": 3,
   "metadata": {},
   "outputs": [
    {
     "name": "stdout",
     "output_type": "stream",
     "text": [
      "                          Name  Base_Experience  Height  Weight\n",
      "0                   charmander               62       6      85\n",
      "1                   charmeleon              142      11     190\n",
      "2                    charizard              267      17     905\n",
      "3                       vulpix               60       6      99\n",
      "4                    ninetales              177      11     199\n",
      "..                         ...              ...     ...     ...\n",
      "98             growlithe-hisui               70       8     227\n",
      "99              arcanine-hisui              194      20    1680\n",
      "100           typhlosion-hisui              240      16     698\n",
      "101  tauros-paldea-blaze-breed              172      14     850\n",
      "102   ogerpon-hearthflame-mask              275      12     398\n",
      "\n",
      "[103 rows x 4 columns]\n"
     ]
    }
   ],
   "source": [
    "base_url = \"https://pokeapi.co/api/v2/\"\n",
    "mods = \"type/fire\"\n",
    "url = base_url + mods\n",
    "js_data = requests.get(url).json()\n",
    "fire_pokemon = [pokemon[\"pokemon\"][\"name\"] for pokemon in js_data[\"pokemon\"]]\n",
    "\n",
    "pokemon_stats = []\n",
    "\n",
    "for name in fire_pokemon:\n",
    "    mods = \"pokemon/\" + name\n",
    "    url = base_url + mods\n",
    "    js_data = requests.get(url).json()\n",
    "    data = [js_data[\"name\"], js_data[\"base_experience\"], js_data[\"height\"], js_data[\"weight\"]]\n",
    "    pokemon_stats.append(data)\n",
    "\n",
    "pokemon_fire_data = pd.DataFrame(pokemon_stats, columns=[\"Name\", \"Base_Experience\", \"Height\", \"Weight\"])\n",
    "print(pokemon_fire_data)"
   ]
  },
  {
   "cell_type": "markdown",
   "metadata": {},
   "source": [
    "For the two lines of code, I used a for loop to grab the data for each name of a pokemon that showed up in the initial dataframe. I apended this data to a empty list and turned it into a dataframe."
   ]
  },
  {
   "cell_type": "markdown",
   "metadata": {},
   "source": [
    "# Question 3"
   ]
  },
  {
   "cell_type": "code",
   "execution_count": 32,
   "metadata": {},
   "outputs": [
    {
     "data": {
      "text/plain": [
       "178.63855421686748"
      ]
     },
     "execution_count": 32,
     "metadata": {},
     "output_type": "execute_result"
    }
   ],
   "source": [
    "pokemon_fairy_data[\"Base_Experience\"].mean()"
   ]
  },
  {
   "cell_type": "code",
   "execution_count": 33,
   "metadata": {},
   "outputs": [
    {
     "data": {
      "text/plain": [
       "178.25242718446603"
      ]
     },
     "execution_count": 33,
     "metadata": {},
     "output_type": "execute_result"
    }
   ],
   "source": [
    "pokemon_fire_data[\"Base_Experience\"].mean()\n"
   ]
  },
  {
   "cell_type": "code",
   "execution_count": 34,
   "metadata": {},
   "outputs": [
    {
     "data": {
      "text/plain": [
       "625.8795180722891"
      ]
     },
     "execution_count": 34,
     "metadata": {},
     "output_type": "execute_result"
    }
   ],
   "source": [
    "pokemon_fairy_data[\"Weight\"].mean()"
   ]
  },
  {
   "cell_type": "code",
   "execution_count": 35,
   "metadata": {},
   "outputs": [
    {
     "data": {
      "text/plain": [
       "1170.0"
      ]
     },
     "execution_count": 35,
     "metadata": {},
     "output_type": "execute_result"
    }
   ],
   "source": [
    "pokemon_fire_data[\"Weight\"].mean()"
   ]
  },
  {
   "cell_type": "markdown",
   "metadata": {},
   "source": [
    "# Question 3 Explaination\n",
    "\n",
    "Fairy Pokemon have a higher average base experience by not very much\n",
    "\n",
    "Fairy Pokemon on average are lighter than fire pokemon\n",
    "\n",
    "I got this data by using the template df[\"\"].mean()"
   ]
  },
  {
   "cell_type": "markdown",
   "metadata": {},
   "source": [
    "# Question 4"
   ]
  },
  {
   "cell_type": "code",
   "execution_count": null,
   "metadata": {},
   "outputs": [
    {
     "data": {
      "text/plain": [
       "<matplotlib.legend.Legend at 0x17e663d00>"
      ]
     },
     "execution_count": 29,
     "metadata": {},
     "output_type": "execute_result"
    },
    {
     "data": {
      "image/png": "[encoded data removed]",
      "text/plain": [
       "<Figure size 640x480 with 1 Axes>"
      ]
     },
     "metadata": {},
     "output_type": "display_data"
    }
   ],
   "source": [
    "# Data for base experience graphed on a bar chart\n",
    "\n",
    "fairy_std = pokemon_fairy_data[\"Base_Experience\"].std()\n",
    "#print(fairy_std)\n",
    "fire_std = pokemon_fire_data[\"Base_Experience\"].std()\n",
    "#print(fire_std)\n",
    "\n",
    "\n",
    "x = [\"Fairy\", \"Fire\"]\n",
    "y = [178.63855421686748,178.25242718446603]\n",
    "error_bars = [fairy_std, fire_std]\n",
    "\n",
    "plt.bar(x,y, label=\"AVG\")\n",
    "plt.errorbar(x,y,error_bars, fmt=\"o\", capsize=5, color=\"red\", label=\"STD\")\n",
    "plt.title(\"Average Starting Expirence based on Type\")\n",
    "plt.xlabel(\"Pokemon Type\")\n",
    "plt.ylabel(\"Starting Expirence\")\n",
    "plt.legend()"
   ]
  },
  {
   "cell_type": "markdown",
   "metadata": {},
   "source": [
    "# Question 4 Explaination\n",
    "\n",
    "Since both have nearly identical starting expirience, they both will have similar looking bar graphs. If you want to more accuratly visualize the data, you would want to change the amount the Y-axis increases by."
   ]
  },
  {
   "cell_type": "markdown",
   "metadata": {},
   "source": [
    "# Question 5"
   ]
  },
  {
   "cell_type": "code",
   "execution_count": null,
   "metadata": {},
   "outputs": [
    {
     "name": "stdout",
     "output_type": "stream",
     "text": [
      "The correlation score is 0.4070278151940698\n"
     ]
    }
   ],
   "source": [
    "#Correlation score for Fire Pokemon\n",
    "\n",
    "corr = scipy.stats.pearsonr(pokemon_fire_data[\"Base_Experience\"],pokemon_fire_data[\"Weight\"])\n",
    "print (\"The correlation score is\", corr[0])"
   ]
  },
  {
   "cell_type": "code",
   "execution_count": null,
   "metadata": {},
   "outputs": [
    {
     "name": "stdout",
     "output_type": "stream",
     "text": [
      "The correlation score is 0.22751799055143243\n"
     ]
    }
   ],
   "source": [
    "#Correlation Score for Fairy Pokemon\n",
    "\n",
    "corr = scipy.stats.pearsonr(pokemon_fairy_data[\"Base_Experience\"],pokemon_fairy_data[\"Weight\"])\n",
    "print (\"The correlation score is\", corr[0])"
   ]
  },
  {
   "cell_type": "code",
   "execution_count": 39,
   "metadata": {},
   "outputs": [
    {
     "name": "stdout",
     "output_type": "stream",
     "text": [
      "LinregressResult(slope=10.824751813933055, intercept=-759.5382845030185, rvalue=0.40702781519406983, pvalue=1.9835951526564856e-05, stderr=2.417139272263129, intercept_stderr=475.42363488288447)\n"
     ]
    },
    {
     "data": {
      "text/plain": [
       "Text(0, 0.5, 'Base Exp.')"
      ]
     },
     "execution_count": 39,
     "metadata": {},
     "output_type": "execute_result"
    },
    {
     "data": {
      "image/png": "[encoded data removed]",
      "text/plain": [
       "<Figure size 640x480 with 1 Axes>"
      ]
     },
     "metadata": {},
     "output_type": "display_data"
    }
   ],
   "source": [
    "linear_model = scipy.stats.linregress(pokemon_fire_data[\"Base_Experience\"], pokemon_fire_data[\"Weight\"])\n",
    "print (linear_model)\n",
    "slope = linear_model.slope\n",
    "y_intercept = linear_model.intercept\n",
    "\n",
    "linear_fit = slope*pokemon_fire_data[\"Base_Experience\"]+y_intercept\n",
    "\n",
    "plt.scatter(pokemon_fire_data[\"Base_Experience\"], pokemon_fire_data[\"Weight\"])\n",
    "plt.plot(pokemon_fire_data[\"Base_Experience\"],linear_fit, label=\"Line of Best Fit\")\n",
    "plt.legend()\n",
    "plt.title(\"Fire Pokemon Weight vs Base Exp.\")\n",
    "plt.xlabel(\"Weight in units\")\n",
    "plt.ylabel(\"Base Exp.\")\n"
   ]
  },
  {
   "cell_type": "code",
   "execution_count": 40,
   "metadata": {},
   "outputs": [
    {
     "name": "stdout",
     "output_type": "stream",
     "text": [
      "LinregressResult(slope=4.678727013803104, intercept=-209.92151124889915, rvalue=0.22751799055143243, pvalue=0.038586901983736765, stderr=2.224987490092617, intercept_stderr=446.4522857722255)\n"
     ]
    },
    {
     "data": {
      "text/plain": [
       "Text(0, 0.5, 'Base Exp.')"
      ]
     },
     "execution_count": 40,
     "metadata": {},
     "output_type": "execute_result"
    },
    {
     "data": {
      "image/png": "[encoded data removed]",
      "text/plain": [
       "<Figure size 640x480 with 1 Axes>"
      ]
     },
     "metadata": {},
     "output_type": "display_data"
    }
   ],
   "source": [
    "linear_model = scipy.stats.linregress(pokemon_fairy_data[\"Base_Experience\"], pokemon_fairy_data[\"Weight\"])\n",
    "print (linear_model)\n",
    "slope = linear_model.slope\n",
    "y_intercept = linear_model.intercept\n",
    "\n",
    "linear_fit = slope*pokemon_fairy_data[\"Base_Experience\"]+y_intercept\n",
    "\n",
    "plt.scatter(pokemon_fairy_data[\"Base_Experience\"], pokemon_fairy_data[\"Weight\"])\n",
    "plt.plot(pokemon_fairy_data[\"Base_Experience\"],linear_fit, label=\"Line of Best Fit\")\n",
    "plt.legend()\n",
    "plt.title(\"Fairy Pokemon Weight vs Base Exp.\")\n",
    "plt.xlabel(\"Weight in units\")\n",
    "plt.ylabel(\"Base Exp.\")"
   ]
  },
  {
   "cell_type": "markdown",
   "metadata": {},
   "source": [
    "# Question 5 Explaination\n",
    "\n",
    "For both types of pokemon, Weight and Base Exp. have a week positive correlation. This is enforced by the line of best fit seen in both graphs alongside the pearson correlation scores seen above.\n",
    "\n",
    "I did this by generating a pearson correlation score for each dataframe of pokemon and then I did a scatter plot of data and graphed the line of best fit over it."
   ]
  }
 ],
 "metadata": {
  "kernelspec": {
   "display_name": "base",
   "language": "python",
   "name": "python3"
  },
  "language_info": {
   "codemirror_mode": {
    "name": "ipython",
    "version": 3
   },
   "file_extension": ".py",
   "mimetype": "text/x-python",
   "name": "python",
   "nbconvert_exporter": "python",
   "pygments_lexer": "ipython3",
   "version": "3.10.15"
  }
 },
 "nbformat": 4,
 "nbformat_minor": 2
}
